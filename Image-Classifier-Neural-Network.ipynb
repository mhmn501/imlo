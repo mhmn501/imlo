{
 "cells": [
  {
   "cell_type": "code",
   "execution_count": 5,
   "metadata": {},
   "outputs": [],
   "source": [
    "# Import necessary modules from PyTorch\n",
    "import torchvision\n",
    "import torch\n",
    "from torchvision import transforms, datasets"
   ]
  },
  {
   "cell_type": "markdown",
   "metadata": {},
   "source": [
    "## Preprosessing Data"
   ]
  },
  {
   "cell_type": "code",
   "execution_count": 7,
   "metadata": {},
   "outputs": [],
   "source": [
    "# Data augmentation and normalization\n",
    "data_transforms = transforms.Compose([\n",
    "    transforms.Resize(256),\n",
    "    transforms.CenterCrop(224),\n",
    "    transforms.ToTensor(),\n",
    "    transforms.Normalize(mean=[0.485, 0.456, 0.406],\n",
    "                         std=[0.229, 0.224, 0.225])\n",
    "])\n",
    "\n",
    "# Define dataset root directory\n",
    "data_dir = 'dataset_flower102/'"
   ]
  },
  {
   "cell_type": "code",
   "execution_count": 8,
   "metadata": {},
   "outputs": [],
   "source": [
    "# Load train, validation, and test datasets\n",
    "train_dataset = datasets.Flowers102(root=data_dir, split='train', transform=data_transforms, download=True)\n",
    "valid_dataset = datasets.Flowers102(root=data_dir, split='val', transform=data_transforms, download=True)\n",
    "test_dataset = datasets.Flowers102(root=data_dir, split='test', transform=data_transforms, download=True)"
   ]
  },
  {
   "cell_type": "code",
   "execution_count": 9,
   "metadata": {},
   "outputs": [],
   "source": [
    "# Create data loaders\n",
    "batch_size = 32\n",
    "train_loader = torch.utils.data.DataLoader(train_dataset, batch_size=batch_size, shuffle=True)\n",
    "valid_loader = torch.utils.data.DataLoader(valid_dataset, batch_size=batch_size, shuffle=False)\n",
    "test_loader = torch.utils.data.DataLoader(test_dataset, batch_size=batch_size, shuffle=False)"
   ]
  },
  {
   "cell_type": "markdown",
   "metadata": {},
   "source": [
    "## CNN Model Architecture"
   ]
  },
  {
   "cell_type": "code",
   "execution_count": 10,
   "metadata": {},
   "outputs": [],
   "source": [
    "# Import necessary modules for Neural Network\n",
    "import torch.nn as nn\n",
    "import torch.optim as optim"
   ]
  },
  {
   "cell_type": "code",
   "execution_count": 12,
   "metadata": {},
   "outputs": [],
   "source": [
    "# Define custom Convolution Neural Network\n",
    "# Simple CNN architecture with two convolutional layers followed by max pooling, two fully connected layers, and a dropout layer for regularization.\n",
    "class CNN(nn.Module):\n",
    "    def __init__(self, num_classes):\n",
    "        super(CNN, self).__init__()\n",
    "\n",
    "        # Convolutional layers\n",
    "        self.conv1 = nn.Conv2d(in_channels=3, out_channels=16, kernel_size=3, stride=1, padding=1)\n",
    "        self.conv2 = nn.Conv2d(in_channels=16, out_channels=32, kernel_size=3, stride=1, padding=1)\n",
    "\n",
    "        # Max pooling layer\n",
    "        self.pool = nn.MaxPool2d(kernel_size=2, stride=2, padding=0)\n",
    "\n",
    "        # Fully connected layers\n",
    "        self.fc1 = nn.Linear(32 * 56 * 56, 512)  # Adjust input size based on image dimensions\n",
    "        self.fc2 = nn.Linear(512, num_classes)\n",
    "\n",
    "        # Dropout layer to prevent overfitting\n",
    "        self.dropout = nn.Dropout(p=0.5)\n",
    "\n",
    "    \n",
    "    # Defines the forward pass of the network, where input data x is passed through each layer sequentially.\n",
    "    def forward(self, x):\n",
    "        # Convolutional layers with ReLU activation and max pooling\n",
    "        x = self.pool(nn.ReLU()(self.conv1(x)))\n",
    "        x = self.pool(nn.ReLU()(self.conv2(x)))\n",
    "        # Flatten the output from convolutional layers\n",
    "        x = x.view(-1, 32 * 56 * 56)  # Adjust size based on image dimensions\n",
    "        # Fully connected layers with dropout\n",
    "        x = self.dropout(nn.ReLU()(self.fc1(x)))\n",
    "        x = self.fc2(x)\n",
    "        return x"
   ]
  },
  {
   "cell_type": "code",
   "execution_count": 13,
   "metadata": {},
   "outputs": [],
   "source": [
    "# Create an instance of the CNN model\n",
    "model = CNN(num_classes=102)  # 102 classes for Flowers102 dataset"
   ]
  },
  {
   "cell_type": "markdown",
   "metadata": {},
   "source": [
    "## CNN Model Training"
   ]
  },
  {
   "cell_type": "markdown",
   "metadata": {},
   "source": [
    "### Set Training Parameters"
   ]
  },
  {
   "cell_type": "code",
   "execution_count": 14,
   "metadata": {},
   "outputs": [],
   "source": [
    "# Define the loss function\n",
    "loss_fn = nn.CrossEntropyLoss()\n",
    "\n",
    "# Define the optimizer\n",
    "optimizer = optim.Adam(model.parameters(), lr=0.001)\n",
    "\n",
    "# Number of training epochs\n",
    "num_epochs = 10"
   ]
  },
  {
   "cell_type": "markdown",
   "metadata": {},
   "source": [
    "### Model Training and Validation"
   ]
  },
  {
   "cell_type": "code",
   "execution_count": 16,
   "metadata": {},
   "outputs": [
    {
     "name": "stdout",
     "output_type": "stream",
     "text": [
      "Epoch 1/10, Training Loss: 6.1804, Training Accuracy: 1.76%\n",
      "Epoch 1/10, Validation Loss: 4.5753, Validation Accuracy: 2.94%\n",
      "Epoch 2/10, Training Loss: 4.3611, Training Accuracy: 4.41%\n",
      "Epoch 2/10, Validation Loss: 4.1043, Validation Accuracy: 6.96%\n",
      "Epoch 3/10, Training Loss: 3.7464, Training Accuracy: 10.78%\n",
      "Epoch 3/10, Validation Loss: 3.7234, Validation Accuracy: 11.86%\n",
      "Epoch 4/10, Training Loss: 3.0272, Training Accuracy: 25.20%\n",
      "Epoch 4/10, Validation Loss: 3.5296, Validation Accuracy: 13.82%\n",
      "Epoch 5/10, Training Loss: 2.0079, Training Accuracy: 51.57%\n",
      "Epoch 5/10, Validation Loss: 3.4127, Validation Accuracy: 18.43%\n",
      "Epoch 6/10, Training Loss: 0.9725, Training Accuracy: 76.86%\n",
      "Epoch 6/10, Validation Loss: 3.4497, Validation Accuracy: 19.71%\n",
      "Epoch 7/10, Training Loss: 0.4750, Training Accuracy: 88.14%\n",
      "Epoch 7/10, Validation Loss: 3.5601, Validation Accuracy: 19.12%\n",
      "Epoch 8/10, Training Loss: 0.2051, Training Accuracy: 95.20%\n",
      "Epoch 8/10, Validation Loss: 3.6641, Validation Accuracy: 20.00%\n",
      "Epoch 9/10, Training Loss: 0.1313, Training Accuracy: 96.47%\n",
      "Epoch 9/10, Validation Loss: 3.9263, Validation Accuracy: 20.00%\n",
      "Epoch 10/10, Training Loss: 0.1023, Training Accuracy: 97.84%\n",
      "Epoch 10/10, Validation Loss: 3.8656, Validation Accuracy: 21.67%\n"
     ]
    }
   ],
   "source": [
    "for epoch in range(num_epochs):\n",
    "    \n",
    "    # Train the model\n",
    "    model.train() # Set the model to training mode\n",
    "    train_loss = 0.0\n",
    "    correct = 0\n",
    "    total = 0\n",
    "\n",
    "    for images, labels in train_loader:\n",
    "        optimizer.zero_grad() # Zero the parameter gradients\n",
    "        outputs = model.forward(images) # Forward pass\n",
    "        loss = loss_fn(outputs, labels) # Calculate the loss\n",
    "        loss.backward() # Backward pass\n",
    "        optimizer.step() # Optimize\n",
    "\n",
    "        train_loss += loss.item() * images.size(0) #  scalar value of the loss tensor for the current batch * the batch size to account for the loss per sample in the batch\n",
    "        _, predicted = outputs.max(1) # Returns a tuple containing the maximum value along the specified dimension (class probabilities for each sample in the batch) and index of the max value\n",
    "        total += labels.size(0) # Accumulates the total number of sample seen during training\n",
    "        correct += predicted.eq(labels).sum().item() # Accumulates the total number of correct predictions over all batches.\n",
    "    \n",
    "    # Calculate training loss and accuracy\n",
    "    train_loss = train_loss / len(train_loader.dataset)\n",
    "    train_accuracy = 100.0 * correct / total\n",
    "\n",
    "    # Print training loss and accuracy\n",
    "    print(f'Epoch {epoch + 1}/{num_epochs}, Training Loss: {train_loss:.4f}, Training Accuracy: {train_accuracy:.2f}%')\n",
    "\n",
    "\n",
    "\n",
    "    # Validate the model\n",
    "    model.eval()  # Set the model to evaluation mode\n",
    "    val_loss = 0.0\n",
    "    correct = 0\n",
    "    total = 0\n",
    "    with torch.no_grad():\n",
    "        for images, labels in valid_loader:\n",
    "            outputs = model.forward(images)  # Forward pass\n",
    "            loss = loss_fn(outputs, labels)  # Calculate the loss\n",
    "\n",
    "            val_loss += loss.item() * images.size(0)\n",
    "            _, predicted = outputs.max(1)\n",
    "            total += labels.size(0)\n",
    "            correct += predicted.eq(labels).sum().item()\n",
    "\n",
    "    # Calculate validation loss and accuracy\n",
    "    val_loss = val_loss / len(valid_loader.dataset)\n",
    "    val_accuracy = 100.0 * correct / total\n",
    "\n",
    "    # Print validation loss and accuracy\n",
    "    print(f'Epoch {epoch + 1}/{num_epochs}, Validation Loss: {val_loss:.4f}, Validation Accuracy: {val_accuracy:.2f}%')"
   ]
  }
 ],
 "metadata": {
  "kernelspec": {
   "display_name": "Python 3 (ipykernel)",
   "language": "python",
   "name": "python3"
  },
  "language_info": {
   "codemirror_mode": {
    "name": "ipython",
    "version": 3
   },
   "file_extension": ".py",
   "mimetype": "text/x-python",
   "name": "python",
   "nbconvert_exporter": "python",
   "pygments_lexer": "ipython3",
   "version": "3.12.3"
  }
 },
 "nbformat": 4,
 "nbformat_minor": 2
}
